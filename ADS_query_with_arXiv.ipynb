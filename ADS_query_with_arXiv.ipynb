{
 "metadata": {
  "name": "",
  "signature": "sha256:efb3484bd3880e935d852650eb47a411c0378a509ffa424d8c96b4a13a0c8732"
 },
 "nbformat": 3,
 "nbformat_minor": 0,
 "worksheets": [
  {
   "cells": [
    {
     "cell_type": "code",
     "collapsed": false,
     "input": [
      "'''\n",
      "Important requires https://github.com/andycasey/ads\n",
      "\n",
      "Getting Started\n",
      "\n",
      "You'll need an API key from NASA ADS labs. Sign up for the newest version of ADS search here, then you can apply for API access by filling out this form.\n",
      "\n",
      "When you get your API key, save it to a file called ~/.ads/dev_key or save it as an environment variable named ADS_DEV_KEY\n",
      "\n",
      "From a terminal type pip install ads (or if you must, use easy_install ads)\n",
      "'''\n",
      "import ads\n",
      "import cPickle as pickle \n",
      "import urllib"
     ],
     "language": "python",
     "metadata": {},
     "outputs": [],
     "prompt_number": 15
    },
    {
     "cell_type": "code",
     "collapsed": false,
     "input": [
      "#Query ADS see https://github.com/andycasey/ads for the api \n",
      "query = ads.query(\"10.1093/mnras/stu129\", database='astronomy', rows=1)\n",
      "\n",
      "#Make a list of formated dictionaries to send to the pickle file\n",
      "papers = []\n",
      "paper_dicts = []\n",
      "count = 0\n",
      "for paper in query:\n",
      "    dct = {'authors':paper.author, 'first_author_affiliation':paper.aff[0],\n",
      "                        'number_of_citations':paper.citation_count, 'title':paper.title, \n",
      "                        'keywords':paper.keyword, 'arXiv_cat':u\"None\" \n",
      "            }\n",
      " \n",
      "    arXiv_id = u'None'\n",
      "    for j in paper.identifier:        \n",
      "        if 'arXiv:' in j:\n",
      "            arXiv_id = j.strip('arXiv:')\n",
      "    \n",
      "    if arXiv_id != u'None':\n",
      "        url = 'http://export.arxiv.org/api/query?search_query={}'.format(arXiv_id)\n",
      "        data = urllib.urlopen(url).readlines()\n",
      "        #print data\n",
      "        for i in data : \n",
      "            if 'category term=' in i :\n",
      "                #print i\n",
      "                arXiv_id = i.split()[1].strip(\"term=\\\"\")\n",
      "    \n",
      "    print arXiv_id\n",
      "    dct['arXiv_cat'] = arXiv_id\n",
      "    print dct['arXiv_cat']\n",
      "      \n",
      "    paper_dicts.append(dct)\n",
      "    papers.append(paper) \n",
      "        \n",
      "#We can pickle that! \n",
      "#output = file('papers.pkl', 'w')\n",
      "#pickle.dump(paper_dicts, output)\n",
      "#output.close()\n",
      "    "
     ],
     "language": "python",
     "metadata": {},
     "outputs": [
      {
       "output_type": "stream",
       "stream": "stdout",
       "text": [
        "astro-ph.CO\n",
        "astro-ph.CO\n"
       ]
      }
     ],
     "prompt_number": 44
    },
    {
     "cell_type": "code",
     "collapsed": false,
     "input": [
      "print paper_dicts"
     ],
     "language": "python",
     "metadata": {},
     "outputs": [
      {
       "output_type": "stream",
       "stream": "stdout",
       "text": [
        "[{'arXiv_cat': 'astro-ph.CO', 'number_of_citations': 2, 'title': [u'Known unknowns of dark matter annihilation over cosmic time'], 'first_author_affiliation': u'School of Physics (David Caro Building), University of Melbourne, Victoria 3010, Australia; ARC Centre of Excellence for All-sky Astrophysics (CAASTRO), The University of Sydney, NSW 2006, Australia; ARC Centre of Excellence for Particle Physics at Terascale (CoEPP), School of Physics, The University of Melbourne, Victoria 3010, Australia', 'authors': [u'Mack, Katherine J.'], 'keywords': [u'galaxies: formation', u'dark matter', u'large-scale structure of Universe', u'Astrophysics - Cosmology and Extragalactic Astrophysics']}]\n"
       ]
      }
     ],
     "prompt_number": 45
    },
    {
     "cell_type": "code",
     "collapsed": false,
     "input": [
      "print papers[0]"
     ],
     "language": "python",
     "metadata": {},
     "outputs": [
      {
       "output_type": "stream",
       "stream": "stdout",
       "text": [
        "<Ravignani  & Supanitsky 2015, 2015APh....65....1R>\n"
       ]
      }
     ],
     "prompt_number": 41
    },
    {
     "cell_type": "code",
     "collapsed": true,
     "input": [],
     "language": "python",
     "metadata": {},
     "outputs": []
    },
    {
     "cell_type": "code",
     "collapsed": false,
     "input": [
      "bob"
     ],
     "language": "python",
     "metadata": {},
     "outputs": [
      {
       "ename": "NameError",
       "evalue": "name 'bob' is not defined",
       "output_type": "pyerr",
       "traceback": [
        "\u001b[0;31m---------------------------------------------------------------------------\u001b[0m\n\u001b[0;31mNameError\u001b[0m                                 Traceback (most recent call last)",
        "\u001b[0;32m<ipython-input-29-e01096b9ffe3>\u001b[0m in \u001b[0;36m<module>\u001b[0;34m()\u001b[0m\n\u001b[0;32m----> 1\u001b[0;31m \u001b[0mbob\u001b[0m\u001b[0;34m\u001b[0m\u001b[0m\n\u001b[0m",
        "\u001b[0;31mNameError\u001b[0m: name 'bob' is not defined"
       ]
      }
     ],
     "prompt_number": 29
    },
    {
     "cell_type": "code",
     "collapsed": false,
     "input": [
      "query = ads.query(\"Morehead, Robert C.\", database='astronomy', sort='cited', rows=20)\n",
      "for paper in query:\n",
      "    print paper.citation_count, paper.title[0]"
     ],
     "language": "python",
     "metadata": {},
     "outputs": [
      {
       "output_type": "stream",
       "stream": "stdout",
       "text": [
        "293 A closely packed system of low-mass, low-density planets transiting Kepler-11\n",
        "286 Planet Occurrence within 0.25 AU of Solar-type Stars from Kepler\n",
        "241 Kepler's First Rocky Planet: Kepler-10b\n",
        "213 Architecture and Dynamics of Kepler's Candidate Multiple Transiting Planet Systems\n",
        "198 Kepler-9: A System of Multiple Planets Transiting a Sun-Like Star, Confirmed by Timing Variations\n",
        "184 The physics of double layers and their role in astrophysics.\n",
        "110 Architecture of Kepler's Multi-transiting Systems. II. New Investigations with Twice as Many Candidates\n",
        "101 Biogeochemical cycling in an organic-rich coastal marine basin\u2014I. Methane sediment-water exchange processes\n",
        "99 Almost All of Kepler's Multiple-planet Candidates Are Planets\n",
        "56 Planetary Candidates Observed by Kepler IV: Planet Sample from Q1-Q8 (22 Months)\n",
        "53 The Distribution of Transit Durations for Kepler Planet Candidates and Implications for Their Orbital Eccentricities\n",
        "52 Transit timing observations from Kepler - VII. Confirmation of 27 planets in 13 multiplanet systems via transit timing variations and orbital stability\n",
        "47 Five Kepler Target Stars That Show Multiple Transiting Exoplanet Candidates\n",
        "46 Transit Timing Observations from Kepler. II. Confirmation of Two Multiplanet Systems via a Non-parametric Correlation Analysis\n",
        "35 Mean Absolute Magnitudes of Carbon Stars and Related Objects\n",
        "27 On the advancements of conformal transformations and their associated symmetries in geometry and theoretical physics\n",
        "25 Multifrequency VLA observations of 3C 388: evidence for an intermittent jet ?\n",
        "22 A mass balance of <SUP>13</SUP>C and <SUP>12</SUP>C in an organic-rich methane-producing marine sediment\n",
        "20 A large metabolic carbon contribution to the \u03b4 <SUP>13</SUP>C record in marine aragonitic bivalve shells\n",
        "19 Constraining the false positive rate for Kepler planet candidates with multicolour photometry from the GTC\n"
       ]
      }
     ],
     "prompt_number": 53
    },
    {
     "cell_type": "code",
     "collapsed": false,
     "input": [],
     "language": "python",
     "metadata": {},
     "outputs": []
    }
   ],
   "metadata": {}
  }
 ]
}