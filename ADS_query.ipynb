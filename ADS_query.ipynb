{
 "metadata": {
  "name": "",
  "signature": "sha256:fc89a4bedfb292a3009d1ce29b933756a7ac41f2d27b90ffba3ac452bbb1bbfa"
 },
 "nbformat": 3,
 "nbformat_minor": 0,
 "worksheets": [
  {
   "cells": [
    {
     "cell_type": "code",
     "collapsed": false,
     "input": [
      "'''\n",
      "Important requires https://github.com/andycasey/ads\n",
      "\n",
      "Getting Started\n",
      "\n",
      "You'll need an API key from NASA ADS labs. Sign up for the newest version of ADS search here, then you can apply for API access by filling out this form.\n",
      "\n",
      "When you get your API key, save it to a file called ~/.ads/dev_key or save it as an environment variable named ADS_DEV_KEY\n",
      "\n",
      "From a terminal type pip install ads (or if you must, use easy_install ads)\n",
      "'''\n",
      "import ads\n",
      "import cPickle as pickle \n",
      "import time"
     ],
     "language": "python",
     "metadata": {},
     "outputs": [],
     "prompt_number": 7
    },
    {
     "cell_type": "code",
     "collapsed": false,
     "input": [
      "#Query ADS see https://github.com/andycasey/ads for the api\n",
      "paper_dicts = []\n",
      "rows = 200\n",
      "for i in range(25):\n",
      "    time.sleep(1)\n",
      "    query = ads.query(database='astronomy', rows=rows, start=i*rows)\n",
      "\n",
      "    #Make a list of formated dictionaries to send to the pickle file\n",
      "    for paper in query:\n",
      "        try:\n",
      "            paper_dicts.append({'authors':paper.author, 'first_author_affiliation':paper.aff[0],\n",
      "                            'number_of_citations':paper.citation_count, 'title':paper.title, 'year':paper.year\n",
      "                            })\n",
      "        except AttributeError:\n",
      "            print \"bad ads...\"\n",
      "            continue\n",
      "    print paper_dicts[-1]\n",
      "#We can pickle that! \n",
      "output = file('papers_recent.pkl', 'w')\n",
      "pickle.dump(paper_dicts, output)\n",
      "output.close()"
     ],
     "language": "python",
     "metadata": {},
     "outputs": [
      {
       "output_type": "stream",
       "stream": "stdout",
       "text": [
        "{'title': [u'The almost ubiquitous association of 6.7-GHz methanol masers with dust'], 'first_author_affiliation': u'Max-Planck-Institut f\\xfcr Radioastronomie, Auf dem H\\xfcgel 69, D-53121 Bonn, Germany', 'year': u'2015', 'number_of_citations': 0, 'authors': [u'Urquhart, J. S.', u'Moore, T. J. T.', u'Menten, K. M.', u'K\\xf6nig, C.', u'Wyrowski, F.', u'Thompson, M. A.', u'Csengeri, T.', u'Leurini, S.', u'Eden, D. J.']}\n",
        "{'title': [u'Influence of deep-water derived isoprenoid tetraether lipids on the \\u3008mml:msubsup\\u3009TEX 86 H paleothermometer in the Mediterranean Sea'], 'first_author_affiliation': u'NIOZ Royal Netherlands Institute for Sea Research, NL-1790 AB Den Burg, The Netherlands', 'year': u'2015', 'number_of_citations': 0, 'authors': [u'Kim, Jung-Hyun', u'Schouten, Stefan', u'Rodrigo-G\\xe1miz, Marta', u'Rampen, Sebastiaan', u'Marino, Gianluca', u'Huguet, Carme', u'Helmke, Peer', u'Buscail, Roselyne', u'Hopmans, Ellen C.', u'Pross, J\\xf6rg', u'Sangiorgi, Francesca', u'Middelburg, Jack B. M.', u'Sinninghe Damst\\xe9, Jaap S.']}"
       ]
      },
      {
       "output_type": "stream",
       "stream": "stdout",
       "text": [
        "\n",
        "{'title': [u'Low Amplitude Lightcurve for KM-sized Near-Earth Asteroid (285944) 2001 RZ11'], 'first_author_affiliation': u'-', 'year': u'2015', 'number_of_citations': 0, 'authors': [u'Elenin, Leonid', u'Nevski, Vitali', u'Kusakin, Anatoly', u'Molotov, Igor']}"
       ]
      },
      {
       "output_type": "stream",
       "stream": "stdout",
       "text": [
        "\n",
        "{'title': [u'The formation and evolution of clumpy galaxies from z=3 to z=0.5'], 'first_author_affiliation': u'-', 'year': u'2015', 'number_of_citations': 0, 'authors': [u'CANDELS']}"
       ]
      },
      {
       "output_type": "stream",
       "stream": "stdout",
       "text": [
        "\n",
        "{'title': [u\"Overview of the University of Washington's Pre-Major in Astronomy Program\"], 'first_author_affiliation': u'-', 'year': u'2015', 'number_of_citations': 0, 'authors': [u'Pre-Major in Astronomy Program']}"
       ]
      },
      {
       "output_type": "stream",
       "stream": "stdout",
       "text": [
        "\n",
        "{'title': [u'Resonance capture at arbitrary inclination'], 'first_author_affiliation': u\"Universit\\xe9 de Nice, CNRS, Observatoire de la C\\xf4te d'Azur, CS 34229, F-06304 Nice, France\", 'year': u'2015', 'number_of_citations': 0, 'authors': [u'Namouni, F.', u'Morais, M. H. M.']}"
       ]
      },
      {
       "output_type": "stream",
       "stream": "stdout",
       "text": [
        "\n",
        "{'title': [u'Lg attenuation in northeast China using NECESSArray data'], 'first_author_affiliation': u'Department of Physics, New Mexico State University, Las Cruces, NM 88001, USA.', 'year': u'2015', 'number_of_citations': 1, 'authors': [u'Ranasinghe, Nishath R.', u'Gallegos, Andrea C.', u'Trujillo, Andrea R.', u'Blanchette, Alexander R.', u'Sandvol, Eric A.', u'Ni, James', u'Hearn, Thomas M.', u'Tang, Youcai', u'Grand, Stephen P.', u'Niu, Fenglin', u'Chen, Yongshun J.', u'Ning, Jieyuan', u'Kawakatsu, Hitoshi', u'Tanaka, Satoru', u'Obayashi, Masayuki']}"
       ]
      },
      {
       "output_type": "stream",
       "stream": "stdout",
       "text": [
        "\n",
        "bad ads..."
       ]
      },
      {
       "output_type": "stream",
       "stream": "stdout",
       "text": [
        "\n",
        "{'title': [u'Black hole spin evolution affected by magnetic field decay'], 'first_author_affiliation': u'Sternberg Astronomical Institute, Moscow State University, Moscow 119992, Russia', 'year': u'2015', 'number_of_citations': 0, 'authors': [u'Chashkina, Anna', u'Abolmasov, Pavel']}\n",
        "{'title': [u'Small-scale Structuring of Ellerman Bombs at the Solar Limb'], 'first_author_affiliation': u'Armagh Observatory, College Hill, Armagh BT61 9DG, UK ; Solar Physics and Space Plasma Research Centre, University of Sheffield, Hicks Building, Hounsfield Road, Sheffield S3 7RH, UK', 'year': u'2015', 'number_of_citations': 0, 'authors': [u'Nelson, C. J.', u'Scullion, E. M.', u'Doyle, J. G.', u'Freij, N.', u'Erd\\xe9lyi, R.']}"
       ]
      },
      {
       "output_type": "stream",
       "stream": "stdout",
       "text": [
        "\n",
        "{'title': [u'The Best and Brightest Metal-Poor Stars'], 'first_author_affiliation': u'MIT Kavli Institute for Astrophysics and Space Research', 'year': u'2015', 'number_of_citations': 0, 'authors': [u'Schlaufman, Kevin']}"
       ]
      },
      {
       "output_type": "stream",
       "stream": "stdout",
       "text": [
        "\n",
        "{'title': [u'Probing Kinematic Substructures in the Virgo Overdensity using RR Lyrae from Recent Surveys'], 'first_author_affiliation': u'Clemson University', 'year': u'2015', 'number_of_citations': 0, 'authors': [u'Farmer, John', u'Vivas, A. Katherina']}"
       ]
      },
      {
       "output_type": "stream",
       "stream": "stdout",
       "text": [
        "\n",
        "{'title': [u'Next Generation Virgo Survey Photometry and Keck/DEIMOS Spectroscopy of Globular Cluster Satellites of Dwarf Elliptical Galaxies in the Virgo Cluster'], 'first_author_affiliation': u'UC, Santa Cruz', 'year': u'2015', 'number_of_citations': 0, 'authors': [u'Guhathakurta, Puragra', u'Toloba, Elisa', u'Peng, Eric W.', u'Li, Biao', u'Gwyn, Stephen', u'Ferrarese, Laura', u'Cote, Patrick', u'Chu, Jason', u'Sparkman, Lea', u'Chen, Stephanie', u'Yagati, Samyukta', u'Muller, Meredith', u'Next Generation Virgo Survey collaboration']}"
       ]
      },
      {
       "output_type": "stream",
       "stream": "stdout",
       "text": [
        "\n",
        "{'title': [u'Tidal streams in triaxial systems'], 'first_author_affiliation': u'Columbia University', 'year': u'2015', 'number_of_citations': 0, 'authors': [u'Price-Whelan, Adrian M.', u'Johnston, Kathryn V.', u'Pearson, Sarah', u'Kupper, Andreas Hans Wilhelm']}"
       ]
      },
      {
       "output_type": "stream",
       "stream": "stdout",
       "text": [
        "\n",
        "{'title': [u'Estimates of Planetary System Properties using TTV data and Least-Excited Orbital Configurations'], 'first_author_affiliation': u'Northwestern University', 'year': u'2015', 'number_of_citations': 0, 'authors': [u'Lee, Daeyoung', u'Steffen, Jason H.']}"
       ]
      },
      {
       "output_type": "stream",
       "stream": "stdout",
       "text": [
        "\n",
        "{'title': [u'Starbursting Dwarf Galaxies at z \\u3009 1'], 'first_author_affiliation': u'Max Planck Institute for Astronomy', 'year': u'2015', 'number_of_citations': 0, 'authors': [u'Maseda, Michael', u'van der Wel, Arjen', u'Rix, Hans-Walter', u'3D-HST']}"
       ]
      },
      {
       "output_type": "stream",
       "stream": "stdout",
       "text": [
        "\n",
        "{'title': [u'Improved Functionality and Curation Support in the ADS'], 'first_author_affiliation': u'Harvard Smithsonian, CfA', 'year': u'2015', 'number_of_citations': 0, 'authors': [u'Accomazzi, Alberto', u'Kurtz, Michael J.', u'Henneken, Edwin A.', u'Grant, Carolyn S.', u'Thompson, Donna', u'Chyla, Roman', u'Holachek, Alexandra', u'Sudilovsky, Vladimir', u'Murray, Stephen S.']}"
       ]
      },
      {
       "output_type": "stream",
       "stream": "stdout",
       "text": [
        "\n",
        "{'title': [u'High-J Rotational Quenching of CO from Collisions with H'], 'first_author_affiliation': u'University of Georgia', 'year': u'2015', 'number_of_citations': 0, 'authors': [u'Walker, Kyle M.', u'Song, Lei', u'Yang, Benhui H.', u'Groenenboom, Gerrit C.', u'van der Avoird, Ad', u'Naduvalath, Balakrishnan', u'Forrey, Robert C.', u'Stancil, Phillip C.']}"
       ]
      },
      {
       "output_type": "stream",
       "stream": "stdout",
       "text": [
        "\n",
        "{'title': [u'Spatio-temporal characteristics of the Equatorial Ionization Anomaly (EIA) in the East African region via ionospheric tomography during the year 2012'], 'first_author_affiliation': u'Washera Geospace and Radar Science Laboratory, Bahir Dar, Ethiopia', 'year': u'2015', 'number_of_citations': 0, 'authors': [u'Kassa, T.', u'Damtie, B.', u'Bires, A.', u'Yizengaw, E.', u'Cilliers, P.']}"
       ]
      },
      {
       "output_type": "stream",
       "stream": "stdout",
       "text": [
        "\n",
        "{'title': [u'Searching for Proper-Motion Brown Dwarfs in the Mid-IR'], 'first_author_affiliation': u'Harvard-Smithsonian Center for Astrophysics', 'year': u'2015', 'number_of_citations': 0, 'authors': [u'Li, Zequn', u'Ashby, Matthew', u'Hora, Joseph L.']}"
       ]
      },
      {
       "output_type": "stream",
       "stream": "stdout",
       "text": [
        "\n",
        "{'title': [u'Comparison of subdominant gravitational wave harmonics between post-Newtonian and numerical relativity calculations and construction of multi-mode hybrids'], 'first_author_affiliation': u'-', 'year': u'2015', 'number_of_citations': 0, 'authors': [u'Calder\\xf3n Bustillo, Juan', u'Boh\\xe9, Alejandro', u'Husa, Sascha', u'Sintes, Alicia M.', u'Hannam, Mark', u'P\\xfcrrer, Michael']}"
       ]
      },
      {
       "output_type": "stream",
       "stream": "stdout",
       "text": [
        "\n",
        "{'title': [u'Studies on some characteristics of rain-induced depolarization of Ku-band signal over an earth-space path at a tropical location'], 'first_author_affiliation': u'S. K. Mitra Centre for Research in Space Environment, Institute of Radio Physics and Electronics, University of Calcutta, Kolkata 700009, India', 'year': u'2014', 'number_of_citations': 0, 'authors': [u'Maitra, Animesh', u'Adhikari, Arpita']}"
       ]
      },
      {
       "output_type": "stream",
       "stream": "stdout",
       "text": [
        "\n",
        "{'title': [u'The PIRATE Facility: at the crossroads of research and teaching'], 'first_author_affiliation': u'Department of Physical Sciences, The Open University, Walton Hall, Milton Keynes MK7 6AA, UK MEMAIL>ulrich.kolb@open.ac.uk', 'year': u'2014', 'number_of_citations': 0, 'authors': [u'Kolb, U.']}"
       ]
      },
      {
       "output_type": "stream",
       "stream": "stdout",
       "text": [
        "\n",
        "{'title': [u'Cosmology in a reduced Born-Infeld f (T ) theory of gravity'], 'first_author_affiliation': u'Department of Physics and Centre for Theoretical Studies, Indian Institute of Technology, Kharagpur 721302, India', 'year': u'2014', 'number_of_citations': 0, 'authors': [u'Jana, Soumya']}"
       ]
      },
      {
       "output_type": "stream",
       "stream": "stdout",
       "text": [
        "\n",
        "{'title': [u'MAXI/GSC detection of a possible X-ray flare from an RS CVn star Sigma Gem'], 'first_author_affiliation': u'-', 'year': u'2014', 'number_of_citations': 0, 'authors': [u'Serino, M.', u'Tsuboi, Y.', u'Kawagoe, A.', u'Ueno, S.', u'Tomida, H.', u'Nakahira, S.', u'Kimura, M.', u'Ishikawa, M.', u'Nakagawa, Y. E.', u'Mihara, T.', u'Sugizaki, M.', u'Morii, M.', u'Sugimoto, J.', u'Takagi, T.', u'Yoshikawa, A.', u'Matsuoka, M.', u'Kawai, N.', u'Yoshii, T.', u'Tachibana, Y.', u'Yoshida, A.', u'Sakamoto, T.', u'Kawakubo, Y.', u'Ohtsuki, H.', u'Tsunemi, H.', u'Uchida, D.', u'Negoro, H.', u'Nakajima, M.', u'Fukushima, K.', u'Onodera, T.', u'Suzuki, K.', u'Namba, T.', u'Fujita, M.', u'Honda, F.', u'Ueda, Y.', u'Shidatsu, M.', u'Kawamuro, T.', u'Hori, T.', u'Yamauchi, M.', u'Morooka, Y.', u'Itoh, D.', u'Yamaoka, K.']}"
       ]
      },
      {
       "output_type": "stream",
       "stream": "stdout",
       "text": [
        "\n",
        "{'title': [u'Observation of cloud-to-ground lightning channels with high-speed video camera'], 'first_author_affiliation': u'-', 'year': u'2014', 'number_of_citations': 0, 'authors': [u'Buguet, M.', u'Lalande, P.', u'Blanchet, P.', u'P\\xe9deboy, S.', u'Barn\\xe9oud, P.', u'Laroche, P.']}"
       ]
      },
      {
       "output_type": "stream",
       "stream": "stdout",
       "text": [
        "\n"
       ]
      }
     ],
     "prompt_number": 18
    },
    {
     "cell_type": "code",
     "collapsed": false,
     "input": [
      "# now, for highly-cited papers\n",
      "paper_dicts = []\n",
      "rows = 200\n",
      "for i in range(25):\n",
      "    time.sleep(1)\n",
      "    query = ads.query(database='astronomy', sort=\"citations\", query=\"year:2000-2014\", rows=rows, start=i*rows)\n",
      "\n",
      "    #Make a list of formated dictionaries to send to the pickle file\n",
      "    for paper in query:\n",
      "        paper_dicts.append({'authors':paper.author, 'first_author_affiliation':paper.aff[0],\n",
      "                            'number_of_citations':paper.citation_count, 'title':paper.title, 'year':paper.year\n",
      "                            }) \n",
      "    print paper_dicts[-1]\n",
      "#We can pickle that! \n",
      "output = file('papers_popular.pkl', 'w')\n",
      "pickle.dump(paper_dicts, output)\n",
      "output.close()"
     ],
     "language": "python",
     "metadata": {},
     "outputs": [
      {
       "output_type": "stream",
       "stream": "stdout",
       "text": [
        "{'title': [u'Secular Evolution and the Formation of Pseudobulges in Disk Galaxies'], 'first_author_affiliation': u'-', 'year': u'2004', 'number_of_citations': 789, 'authors': [u'Kormendy, John', u'Kennicutt, Robert C., Jr.']}\n",
        "{'title': [u'Is the lightest Kaluza-Klein particle a viable dark matter candidate?'], 'first_author_affiliation': u'High Energy Physics Division, Argonne National Laboratory, 60439, Argonne, IL, USA', 'year': u'2003', 'number_of_citations': 572, 'authors': [u'Servant, G\\xe9raldine', u'Tait, Tim M. P.']}"
       ]
      },
      {
       "output_type": "stream",
       "stream": "stdout",
       "text": [
        "\n",
        "{'title': [u'Origin of the orbital architecture of the giant planets of the Solar System'], 'first_author_affiliation': u'-', 'year': u'2005', 'number_of_citations': 461, 'authors': [u'Tsiganis, K.', u'Gomes, R.', u'Morbidelli, A.', u'Levison, H. F.']}"
       ]
      },
      {
       "output_type": "stream",
       "stream": "stdout",
       "text": [
        "\n",
        "{'title': [u'Massive neutrinos and cosmology'], 'first_author_affiliation': u'Laboratoire de Physique Th\\xe9orique LAPTH, CNRS-Universit\\xe9 de Savoie, B.P. 110, F-74941 Annecy-le-Vieux Cedex, France', 'year': u'2006', 'number_of_citations': 402, 'authors': [u'Lesgourgues, Julien', u'Pastor, Sergio']}"
       ]
      },
      {
       "output_type": "stream",
       "stream": "stdout",
       "text": [
        "\n",
        "{'title': [u'The First Release COSMOS Optical and Near-IR Data and Catalog'], 'first_author_affiliation': u'California Institute of Technology, MC 105-24, 1200 East California Boulevard, Pasadena, CA 91125.', 'year': u'2007', 'number_of_citations': 363, 'authors': [u'Capak, P.', u'Aussel, H.', u'Ajiki, M.', u'McCracken, H. J.', u'Mobasher, B.', u'Scoville, N.', u'Shopbell, P.', u'Taniguchi, Y.', u'Thompson, D.', u'Tribiano, S.', u'Sasaki, S.', u'Blain, A. W.', u'Brusa, M.', u'Carilli, C.', u'Comastri, A.', u'Carollo, C. M.', u'Cassata, P.', u'Colbert, J.', u'Ellis, R. S.', u'Elvis, M.', u'Giavalisco, M.', u'Green, W.', u'Guzzo, L.', u'Hasinger, G.', u'Ilbert, O.', u'Impey, C.', u'Jahnke, K.', u'Kartaltepe, J.', u'Kneib, J. -P.', u'Koda, J.', u'Koekemoer, A.', u'Komiyama, Y.', u'Leauthaud, A.', u'Le Fevre, O.', u'Lilly, S.', u'Liu, C.', u'Massey, R.', u'Miyazaki, S.', u'Murayama, T.', u'Nagao, T.', u'Peacock, J. A.', u'Pickles, A.', u'Porciani, C.', u'Renzini, A.', u'Rhodes, J.', u'Rich, M.', u'Salvato, M.', u'Sanders, D. B.', u'Scarlata, C.', u'Schiminovich, D.', u'Schinnerer, E.', u'Scodeggio, M.', u'Sheth, K.', u'Shioya, Y.', u'Tasca, L. A. M.', u'Taylor, J. E.', u'Yan, L.', u'Zamorani, G.']}"
       ]
      },
      {
       "output_type": "stream",
       "stream": "stdout",
       "text": [
        "\n",
        "{'title': [u'Reionization of the Inhomogeneous Universe'], 'first_author_affiliation': u'Department of Physics and Astronomy, University of Pennsylvania, 209 South 33d Street, Philadelphia, PA 1910; Department of Astronomy, Ohio State University, 140 West 18th Avenue, Columbus, OH 43210; Alfred P. Sloan Fellow', 'year': u'2000', 'number_of_citations': 333, 'authors': [u'Miralda-Escud\\xe9, Jordi', u'Haehnelt, Martin', u'Rees, Martin J.']}"
       ]
      },
      {
       "output_type": "stream",
       "stream": "stdout",
       "text": [
        "\n",
        "{'title': [u'Simulations of magneto-convection in the solar photosphere.  Equations, methods, and results of the MURaM code'], 'first_author_affiliation': u'Max-Planck-Institut f\\xfcr Sonnensystemforschung; Formerly the Max-Planck-Institut f\\xfcr Aeronomie, Max-Planck-Strasse 2, 37191 Katlenburg-Lindau, Germany', 'year': u'2005', 'number_of_citations': 304, 'authors': [u'V\\xf6gler, A.', u'Shelyag, S.', u'Sch\\xfcssler, M.', u'Cattaneo, F.', u'Emonet, T.', u'Linde, T.']}"
       ]
      },
      {
       "output_type": "stream",
       "stream": "stdout",
       "text": [
        "\n",
        "{'title': [u'Details of the mass-temperature relation for clusters of galaxies'], 'first_author_affiliation': u'Max-Planck-Institut f\\xfcr extraterrestrische Physik, Garching bei M\\xfcnchen, Germany', 'year': u'2001', 'number_of_citations': 283, 'authors': [u'Finoguenov, A.', u'Reiprich, T. H.', u'B\\xf6hringer, H.']}"
       ]
      },
      {
       "output_type": "stream",
       "stream": "stdout",
       "text": [
        "\n",
        "{'title': [u'The COSMOS Survey: Hubble Space Telescope Advanced Camera for Surveys Observations and Data Processing'], 'first_author_affiliation': u'Space Telescope Science Institute, 3700 San Martin Drive, Baltimore, MD 21218.', 'year': u'2007', 'number_of_citations': 269, 'authors': [u'Koekemoer, A. M.', u'Aussel, H.', u'Calzetti, D.', u'Capak, P.', u'Giavalisco, M.', u'Kneib, J. -P.', u'Leauthaud, A.', u'Le F\\xe8vre, O.', u'McCracken, H. J.', u'Massey, R.', u'Mobasher, B.', u'Rhodes, J.', u'Scoville, N.', u'Shopbell, P. L.']}"
       ]
      },
      {
       "output_type": "stream",
       "stream": "stdout",
       "text": [
        "\n",
        "{'title': [u'Gravitationally redshifted absorption lines in the X-ray burst spectra of a neutron star'], 'first_author_affiliation': u'NASA Goddard Space Flight Center, Laboratory for High Energy Astrophysics, Greenbelt, Maryland 20771, USA', 'year': u'2002', 'number_of_citations': 254, 'authors': [u'Cottam, J.', u'Paerels, F.', u'Mendez, M.']}"
       ]
      },
      {
       "output_type": "stream",
       "stream": "stdout",
       "text": [
        "\n",
        "{'title': [u'Sulfates in the North Polar Region of Mars Detected by OMEGA/Mars Express'], 'first_author_affiliation': u'-', 'year': u'2005', 'number_of_citations': 241, 'authors': [u'Langevin, Yves', u'Poulet, Fran\\xe7ois', u'Bibring, Jean-Pierre', u'Gondet, Brigitte']}"
       ]
      },
      {
       "output_type": "stream",
       "stream": "stdout",
       "text": [
        "\n",
        "{'title': [u'Ultrahigh- Q  toroidal microresonators for cavity quantum electrodynamics'], 'first_author_affiliation': u'Thomas J. Watson Laboratory of Applied Physics, California Institute of Technology, Pasadena, California 91125, USA', 'year': u'2005', 'number_of_citations': 233, 'authors': [u'Spillane, S. M.', u'Kippenberg, T. J.', u'Vahala, K. J.', u'Goh, K. W.', u'Wilcut, E.', u'Kimble, H. J.']}"
       ]
      },
      {
       "output_type": "stream",
       "stream": "stdout",
       "text": [
        "\n",
        "{'title': [u'Relativistic electron pitch-angle scattering by electromagnetic ion cyclotron waves during geomagnetic storms'], 'first_author_affiliation': u\"Department of Mathematics and Statistics, Memorial University of Newfoundland, St. John's, Newfoundland Canada\", 'year': u'2003', 'number_of_citations': 223, 'authors': [u'Summers, Danny', u'Thorne, Richard M.']}"
       ]
      },
      {
       "output_type": "stream",
       "stream": "stdout",
       "text": [
        "\n",
        "{'title': [u'X-Ray Spectroscopic Evidence for Intermediate-Mass Black Holes: Cool Accretion Disks in Two Ultraluminous X-Ray Sources'], 'first_author_affiliation': u'Harvard-Smithsonian Center for Astrophysics, 60 Garden Street, Cambridge, MA 02138; National Science Foundation Astronomy and Astrophysics Fellow.', 'year': u'2003', 'number_of_citations': 216, 'authors': [u'Miller, J. M.', u'Fabbiano, G.', u'Miller, M. C.', u'Fabian, A. C.']}"
       ]
      },
      {
       "output_type": "stream",
       "stream": "stdout",
       "text": [
        "\n",
        "{'title': [u'CHAMP mission status'], 'first_author_affiliation': u'GeoForschungsZentrum Potsdam (GFZ) Telegrafenberg, 14473 Potsdam, Germany', 'year': u'2002', 'number_of_citations': 208, 'authors': [u'Reigber, Ch.', u'L\\xfchr, H.', u'Schwintzer, P.']}"
       ]
      },
      {
       "output_type": "stream",
       "stream": "stdout",
       "text": [
        "\n",
        "{'title': [u'Inflationary Spacetimes Are Incomplete in Past Directions'], 'first_author_affiliation': u'Institute of Cosmology, Department of Physics and Astronomy, Tufts University, Medford, Massachusetts 02155', 'year': u'2003', 'number_of_citations': 202, 'authors': [u'Borde, Arvind', u'Guth, Alan H.', u'Vilenkin, Alexander']}"
       ]
      },
      {
       "output_type": "stream",
       "stream": "stdout",
       "text": [
        "\n",
        "{'title': [u'Limit on the Detectability of the Energy Scale of Inflation'], 'first_author_affiliation': u'Department of Physics, One Shields Avenue, University of California, Davis, California 95616', 'year': u'2002', 'number_of_citations': 196, 'authors': [u'Knox, Lloyd', u'Song, Yong-Seon']}"
       ]
      },
      {
       "output_type": "stream",
       "stream": "stdout",
       "text": [
        "\n",
        "{'title': [u'Isocam-Cvf 5-12 Micron Spectroscopy of Ultraluminous Infrared Galaxies'], 'first_author_affiliation': u'Max-Planck-Institut f\\xfcr extraterrestrische Physik, Garching bei M\\xfcnchen, Germany', 'year': u'2001', 'number_of_citations': 190, 'authors': [u'Tran, Q. D.', u'Lutz, D.', u'Genzel, R.', u'Rigopoulou, D.', u'Spoon, H. W. W.', u'Sturm, E.', u'Gerin, M.', u'Hines, D. C.', u'Moorwood, A. F. M.', u'Sanders, D. B.', u'Scoville, N.', u'Taniguchi, Y.', u'Ward, M.']}"
       ]
      },
      {
       "output_type": "stream",
       "stream": "stdout",
       "text": [
        "\n",
        "{'title': [u'Dark Energy as a Modification of the Friedmann Equation'], 'first_author_affiliation': u'-', 'year': u'2003', 'number_of_citations': 184, 'authors': [u'Dvali, Gia', u'Turner, Michael S.']}"
       ]
      },
      {
       "output_type": "stream",
       "stream": "stdout",
       "text": [
        "\n",
        "{'title': [u'Higher-order Balmer line indices in \\u03b1/Fe-enhanced stellar population models'], 'first_author_affiliation': u'Max-Planck-Institut f\\xfcr extraterrestrische Physik, Garching bei M\\xfcnchen, Germany', 'year': u'2004', 'number_of_citations': 179, 'authors': [u'Thomas, Daniel', u'Maraston, Claudia', u'Korn, Andreas']}"
       ]
      },
      {
       "output_type": "stream",
       "stream": "stdout",
       "text": [
        "\n",
        "{'title': [u'Perturbation spectrum in inflation with a cutoff'], 'first_author_affiliation': u'Institute for Fundamental Theory, Departments of Physics and Mathematics, University of Florida, Gainesville, Florida 32611', 'year': u'2001', 'number_of_citations': 175, 'authors': [u'Kempf, Achim', u'Niemeyer, Jens C.']}"
       ]
      },
      {
       "output_type": "stream",
       "stream": "stdout",
       "text": [
        "\n",
        "{'title': [u'Cosmological Implications from Observations of Type Ia Supernovae'], 'first_author_affiliation': u'-', 'year': u'2001', 'number_of_citations': 170, 'authors': [u'Leibundgut, Bruno']}"
       ]
      },
      {
       "output_type": "stream",
       "stream": "stdout",
       "text": [
        "\n",
        "{'title': [u'Global distribution of near-surface hydrogen on Mars'], 'first_author_affiliation': u'Los Alamos National Laboratory, Los Alamos, New Mexico, USA', 'year': u'2004', 'number_of_citations': 166, 'authors': [u'Feldman, W. C.', u'Prettyman, T. H.', u'Maurice, S.', u'Plaut, J. J.', u'Bish, D. L.', u'Vaniman, D. T.', u'Mellon, M. T.', u'Metzger, A. E.', u'Squyres, S. W.', u'Karunatillake, S.', u'Boynton, W. V.', u'Elphic, R. C.', u'Funsten, H. O.', u'Lawrence, D. J.', u'Tokar, R. L.']}"
       ]
      },
      {
       "output_type": "stream",
       "stream": "stdout",
       "text": [
        "\n",
        "{'title': [u'The colours of satellite galaxies in groups and clusters'], 'first_author_affiliation': u'Department of Physics, University of Durham, South Road, Durham DH1 3LE', 'year': u'2008', 'number_of_citations': 163, 'authors': [u'Font, A. S.', u'Bower, R. G.', u'McCarthy, I. G.', u'Benson, A. J.', u'Frenk, C. S.', u'Helly, J. C.', u'Lacey, C. G.', u'Baugh, C. M.', u'Cole, S.']}"
       ]
      },
      {
       "output_type": "stream",
       "stream": "stdout",
       "text": [
        "\n",
        "{'title': [u'Line-by-line opacity stellar model atmospheres'], 'first_author_affiliation': u'Tavrian National University, Yaltinskaya 4, 330000 Simferopol, Crimea, Ukraine ; Institute for Astronomy, University of Vienna, T\\xfcrkenschanzstrasse 17, 1180 Vienna, Austria', 'year': u'2004', 'number_of_citations': 159, 'authors': [u'Shulyak, D.', u'Tsymbal, V.', u'Ryabchikova, T.', u'St\\xfctz, Ch.', u'Weiss, W. W.']}"
       ]
      },
      {
       "output_type": "stream",
       "stream": "stdout",
       "text": [
        "\n"
       ]
      }
     ],
     "prompt_number": 20
    },
    {
     "cell_type": "code",
     "collapsed": false,
     "input": [],
     "language": "python",
     "metadata": {},
     "outputs": []
    }
   ],
   "metadata": {}
  }
 ]
}