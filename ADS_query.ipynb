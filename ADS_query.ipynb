{
 "metadata": {
  "name": "",
  "signature": "sha256:338ce48ef6b8e476782e6cc332e2e704c4a0548334cbed8296d21a441c2e7ba8"
 },
 "nbformat": 3,
 "nbformat_minor": 0,
 "worksheets": [
  {
   "cells": [
    {
     "cell_type": "code",
     "collapsed": false,
     "input": [
      "'''\n",
      "Important requires https://github.com/andycasey/ads\n",
      "\n",
      "Getting Started\n",
      "\n",
      "You'll need an API key from NASA ADS labs. Sign up for the newest version of ADS search here, then you can apply for API access by filling out this form.\n",
      "\n",
      "When you get your API key, save it to a file called ~/.ads/dev_key or save it as an environment variable named ADS_DEV_KEY\n",
      "\n",
      "From a terminal type pip install ads (or if you must, use easy_install ads)\n",
      "'''\n",
      "import ads\n",
      "import cPickle as pickle \n",
      "import time"
     ],
     "language": "python",
     "metadata": {},
     "outputs": [],
     "prompt_number": 7
    },
    {
     "cell_type": "code",
     "collapsed": false,
     "input": [
      "#Query ADS see https://github.com/andycasey/ads for the api\n",
      "paper_dicts = []\n",
      "rows = 200\n",
      "for i in range(25):\n",
      "    time.sleep(1)\n",
      "    query = ads.query(database='astronomy', rows=rows, start=i*rows)\n",
      "\n",
      "    #Make a list of formated dictionaries to send to the pickle file\n",
      "    for paper in query:\n",
      "        paper_dicts.append({'authors':paper.author, 'first_author_affiliation':paper.aff[0],\n",
      "                            'number_of_citations':paper.citation_count, 'title':paper.title\n",
      "                            }) \n",
      "    print paper_dicts[-1]\n",
      "#We can pickle that! \n",
      "output = file('papers.pkl', 'w')\n",
      "pickle.dump(paper_dicts, output)\n",
      "output.close()"
     ],
     "language": "python",
     "metadata": {},
     "outputs": [
      {
       "output_type": "stream",
       "stream": "stdout",
       "text": [
        "{'title': [u'The almost ubiquitous association of 6.7-GHz methanol masers with dust'], 'first_author_affiliation': u'Max-Planck-Institut f\\xfcr Radioastronomie, Auf dem H\\xfcgel 69, D-53121 Bonn, Germany', 'number_of_citations': 0, 'authors': [u'Urquhart, J. S.', u'Moore, T. J. T.', u'Menten, K. M.', u'K\\xf6nig, C.', u'Wyrowski, F.', u'Thompson, M. A.', u'Csengeri, T.', u'Leurini, S.', u'Eden, D. J.']}\n",
        "{'title': [u'Influence of deep-water derived isoprenoid tetraether lipids on the \\u3008mml:msubsup\\u3009TEX 86 H paleothermometer in the Mediterranean Sea'], 'first_author_affiliation': u'NIOZ Royal Netherlands Institute for Sea Research, NL-1790 AB Den Burg, The Netherlands', 'number_of_citations': 0, 'authors': [u'Kim, Jung-Hyun', u'Schouten, Stefan', u'Rodrigo-G\\xe1miz, Marta', u'Rampen, Sebastiaan', u'Marino, Gianluca', u'Huguet, Carme', u'Helmke, Peer', u'Buscail, Roselyne', u'Hopmans, Ellen C.', u'Pross, J\\xf6rg', u'Sangiorgi, Francesca', u'Middelburg, Jack B. M.', u'Sinninghe Damst\\xe9, Jaap S.']}"
       ]
      },
      {
       "output_type": "stream",
       "stream": "stdout",
       "text": [
        "\n",
        "{'title': [u'Low Amplitude Lightcurve for KM-sized Near-Earth Asteroid (285944) 2001 RZ11'], 'first_author_affiliation': u'-', 'number_of_citations': 0, 'authors': [u'Elenin, Leonid', u'Nevski, Vitali', u'Kusakin, Anatoly', u'Molotov, Igor']}"
       ]
      },
      {
       "output_type": "stream",
       "stream": "stdout",
       "text": [
        "\n",
        "{'title': [u'The formation and evolution of clumpy galaxies from z=3 to z=0.5'], 'first_author_affiliation': u'-', 'number_of_citations': 0, 'authors': [u'CANDELS']}"
       ]
      },
      {
       "output_type": "stream",
       "stream": "stdout",
       "text": [
        "\n",
        "{'title': [u\"Overview of the University of Washington's Pre-Major in Astronomy Program\"], 'first_author_affiliation': u'-', 'number_of_citations': 0, 'authors': [u'Pre-Major in Astronomy Program']}"
       ]
      },
      {
       "output_type": "stream",
       "stream": "stdout",
       "text": [
        "\n",
        "{'title': [u'Resonance capture at arbitrary inclination'], 'first_author_affiliation': u\"Universit\\xe9 de Nice, CNRS, Observatoire de la C\\xf4te d'Azur, CS 34229, F-06304 Nice, France\", 'number_of_citations': 0, 'authors': [u'Namouni, F.', u'Morais, M. H. M.']}"
       ]
      },
      {
       "output_type": "stream",
       "stream": "stdout",
       "text": [
        "\n",
        "{'title': [u'Lg attenuation in northeast China using NECESSArray data'], 'first_author_affiliation': u'Department of Physics, New Mexico State University, Las Cruces, NM 88001, USA.', 'number_of_citations': 1, 'authors': [u'Ranasinghe, Nishath R.', u'Gallegos, Andrea C.', u'Trujillo, Andrea R.', u'Blanchette, Alexander R.', u'Sandvol, Eric A.', u'Ni, James', u'Hearn, Thomas M.', u'Tang, Youcai', u'Grand, Stephen P.', u'Niu, Fenglin', u'Chen, Yongshun J.', u'Ning, Jieyuan', u'Kawakatsu, Hitoshi', u'Tanaka, Satoru', u'Obayashi, Masayuki']}"
       ]
      },
      {
       "output_type": "stream",
       "stream": "stdout",
       "text": [
        "\n",
        "{'title': [u'Black hole spin evolution affected by magnetic field decay'], 'first_author_affiliation': u'Sternberg Astronomical Institute, Moscow State University, Moscow 119992, Russia', 'number_of_citations': 0, 'authors': [u'Chashkina, Anna', u'Abolmasov, Pavel']}"
       ]
      },
      {
       "output_type": "stream",
       "stream": "stdout",
       "text": [
        "\n",
        "{'title': [u'Small-scale Structuring of Ellerman Bombs at the Solar Limb'], 'first_author_affiliation': u'Armagh Observatory, College Hill, Armagh BT61 9DG, UK ; Solar Physics and Space Plasma Research Centre, University of Sheffield, Hicks Building, Hounsfield Road, Sheffield S3 7RH, UK', 'number_of_citations': 0, 'authors': [u'Nelson, C. J.', u'Scullion, E. M.', u'Doyle, J. G.', u'Freij, N.', u'Erd\\xe9lyi, R.']}"
       ]
      },
      {
       "output_type": "stream",
       "stream": "stdout",
       "text": [
        "\n",
        "{'title': [u'The Best and Brightest Metal-Poor Stars'], 'first_author_affiliation': u'MIT Kavli Institute for Astrophysics and Space Research', 'number_of_citations': 0, 'authors': [u'Schlaufman, Kevin']}"
       ]
      },
      {
       "output_type": "stream",
       "stream": "stdout",
       "text": [
        "\n",
        "{'title': [u'Probing Kinematic Substructures in the Virgo Overdensity using RR Lyrae from Recent Surveys'], 'first_author_affiliation': u'Clemson University', 'number_of_citations': 0, 'authors': [u'Farmer, John', u'Vivas, A. Katherina']}"
       ]
      },
      {
       "output_type": "stream",
       "stream": "stdout",
       "text": [
        "\n",
        "{'title': [u'Next Generation Virgo Survey Photometry and Keck/DEIMOS Spectroscopy of Globular Cluster Satellites of Dwarf Elliptical Galaxies in the Virgo Cluster'], 'first_author_affiliation': u'UC, Santa Cruz', 'number_of_citations': 0, 'authors': [u'Guhathakurta, Puragra', u'Toloba, Elisa', u'Peng, Eric W.', u'Li, Biao', u'Gwyn, Stephen', u'Ferrarese, Laura', u'Cote, Patrick', u'Chu, Jason', u'Sparkman, Lea', u'Chen, Stephanie', u'Yagati, Samyukta', u'Muller, Meredith', u'Next Generation Virgo Survey collaboration']}"
       ]
      },
      {
       "output_type": "stream",
       "stream": "stdout",
       "text": [
        "\n",
        "{'title': [u'Tidal streams in triaxial systems'], 'first_author_affiliation': u'Columbia University', 'number_of_citations': 0, 'authors': [u'Price-Whelan, Adrian M.', u'Johnston, Kathryn V.', u'Pearson, Sarah', u'Kupper, Andreas Hans Wilhelm']}"
       ]
      },
      {
       "output_type": "stream",
       "stream": "stdout",
       "text": [
        "\n",
        "{'title': [u'Estimates of Planetary System Properties using TTV data and Least-Excited Orbital Configurations'], 'first_author_affiliation': u'Northwestern University', 'number_of_citations': 0, 'authors': [u'Lee, Daeyoung', u'Steffen, Jason H.']}"
       ]
      },
      {
       "output_type": "stream",
       "stream": "stdout",
       "text": [
        "\n",
        "{'title': [u'Starbursting Dwarf Galaxies at z \\u3009 1'], 'first_author_affiliation': u'Max Planck Institute for Astronomy', 'number_of_citations': 0, 'authors': [u'Maseda, Michael', u'van der Wel, Arjen', u'Rix, Hans-Walter', u'3D-HST']}"
       ]
      },
      {
       "output_type": "stream",
       "stream": "stdout",
       "text": [
        "\n",
        "{'title': [u'Improved Functionality and Curation Support in the ADS'], 'first_author_affiliation': u'Harvard Smithsonian, CfA', 'number_of_citations': 0, 'authors': [u'Accomazzi, Alberto', u'Kurtz, Michael J.', u'Henneken, Edwin A.', u'Grant, Carolyn S.', u'Thompson, Donna', u'Chyla, Roman', u'Holachek, Alexandra', u'Sudilovsky, Vladimir', u'Murray, Stephen S.']}"
       ]
      },
      {
       "output_type": "stream",
       "stream": "stdout",
       "text": [
        "\n",
        "{'title': [u'High-J Rotational Quenching of CO from Collisions with H'], 'first_author_affiliation': u'University of Georgia', 'number_of_citations': 0, 'authors': [u'Walker, Kyle M.', u'Song, Lei', u'Yang, Benhui H.', u'Groenenboom, Gerrit C.', u'van der Avoird, Ad', u'Naduvalath, Balakrishnan', u'Forrey, Robert C.', u'Stancil, Phillip C.']}"
       ]
      },
      {
       "output_type": "stream",
       "stream": "stdout",
       "text": [
        "\n",
        "{'title': [u'Spatio-temporal characteristics of the Equatorial Ionization Anomaly (EIA) in the East African region via ionospheric tomography during the year 2012'], 'first_author_affiliation': u'Washera Geospace and Radar Science Laboratory, Bahir Dar, Ethiopia', 'number_of_citations': 0, 'authors': [u'Kassa, T.', u'Damtie, B.', u'Bires, A.', u'Yizengaw, E.', u'Cilliers, P.']}"
       ]
      },
      {
       "output_type": "stream",
       "stream": "stdout",
       "text": [
        "\n",
        "{'title': [u'Searching for Proper-Motion Brown Dwarfs in the Mid-IR'], 'first_author_affiliation': u'Harvard-Smithsonian Center for Astrophysics', 'number_of_citations': 0, 'authors': [u'Li, Zequn', u'Ashby, Matthew', u'Hora, Joseph L.']}"
       ]
      },
      {
       "output_type": "stream",
       "stream": "stdout",
       "text": [
        "\n",
        "{'title': [u'Comparison of subdominant gravitational wave harmonics between post-Newtonian and numerical relativity calculations and construction of multi-mode hybrids'], 'first_author_affiliation': u'-', 'number_of_citations': 0, 'authors': [u'Calder\\xf3n Bustillo, Juan', u'Boh\\xe9, Alejandro', u'Husa, Sascha', u'Sintes, Alicia M.', u'Hannam, Mark', u'P\\xfcrrer, Michael']}"
       ]
      },
      {
       "output_type": "stream",
       "stream": "stdout",
       "text": [
        "\n",
        "{'title': [u'Studies on some characteristics of rain-induced depolarization of Ku-band signal over an earth-space path at a tropical location'], 'first_author_affiliation': u'S. K. Mitra Centre for Research in Space Environment, Institute of Radio Physics and Electronics, University of Calcutta, Kolkata 700009, India', 'number_of_citations': 0, 'authors': [u'Maitra, Animesh', u'Adhikari, Arpita']}"
       ]
      },
      {
       "output_type": "stream",
       "stream": "stdout",
       "text": [
        "\n",
        "{'title': [u'The PIRATE Facility: at the crossroads of research and teaching'], 'first_author_affiliation': u'Department of Physical Sciences, The Open University, Walton Hall, Milton Keynes MK7 6AA, UK MEMAIL>ulrich.kolb@open.ac.uk', 'number_of_citations': 0, 'authors': [u'Kolb, U.']}"
       ]
      },
      {
       "output_type": "stream",
       "stream": "stdout",
       "text": [
        "\n",
        "{'title': [u'Cosmology in a reduced Born-Infeld f (T ) theory of gravity'], 'first_author_affiliation': u'Department of Physics and Centre for Theoretical Studies, Indian Institute of Technology, Kharagpur 721302, India', 'number_of_citations': 0, 'authors': [u'Jana, Soumya']}"
       ]
      },
      {
       "output_type": "stream",
       "stream": "stdout",
       "text": [
        "\n",
        "{'title': [u'MAXI/GSC detection of a possible X-ray flare from an RS CVn star Sigma Gem'], 'first_author_affiliation': u'-', 'number_of_citations': 0, 'authors': [u'Serino, M.', u'Tsuboi, Y.', u'Kawagoe, A.', u'Ueno, S.', u'Tomida, H.', u'Nakahira, S.', u'Kimura, M.', u'Ishikawa, M.', u'Nakagawa, Y. E.', u'Mihara, T.', u'Sugizaki, M.', u'Morii, M.', u'Sugimoto, J.', u'Takagi, T.', u'Yoshikawa, A.', u'Matsuoka, M.', u'Kawai, N.', u'Yoshii, T.', u'Tachibana, Y.', u'Yoshida, A.', u'Sakamoto, T.', u'Kawakubo, Y.', u'Ohtsuki, H.', u'Tsunemi, H.', u'Uchida, D.', u'Negoro, H.', u'Nakajima, M.', u'Fukushima, K.', u'Onodera, T.', u'Suzuki, K.', u'Namba, T.', u'Fujita, M.', u'Honda, F.', u'Ueda, Y.', u'Shidatsu, M.', u'Kawamuro, T.', u'Hori, T.', u'Yamauchi, M.', u'Morooka, Y.', u'Itoh, D.', u'Yamaoka, K.']}"
       ]
      },
      {
       "output_type": "stream",
       "stream": "stdout",
       "text": [
        "\n",
        "{'title': [u'Observation of cloud-to-ground lightning channels with high-speed video camera'], 'first_author_affiliation': u'-', 'number_of_citations': 0, 'authors': [u'Buguet, M.', u'Lalande, P.', u'Blanchet, P.', u'P\\xe9deboy, S.', u'Barn\\xe9oud, P.', u'Laroche, P.']}"
       ]
      },
      {
       "output_type": "stream",
       "stream": "stdout",
       "text": [
        "\n"
       ]
      }
     ],
     "prompt_number": 15
    },
    {
     "cell_type": "code",
     "collapsed": false,
     "input": [
      "ads.query?\n"
     ],
     "language": "python",
     "metadata": {},
     "outputs": []
    },
    {
     "cell_type": "code",
     "collapsed": false,
     "input": [],
     "language": "python",
     "metadata": {},
     "outputs": []
    }
   ],
   "metadata": {}
  }
 ]
}