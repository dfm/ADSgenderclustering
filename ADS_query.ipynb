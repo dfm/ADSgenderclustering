{
 "metadata": {
  "name": "",
  "signature": "sha256:c252a342aa3cf7379baf0b38fc0bb4365767e903635bfe6b746a9c3f36c23bc3"
 },
 "nbformat": 3,
 "nbformat_minor": 0,
 "worksheets": [
  {
   "cells": [
    {
     "cell_type": "code",
     "collapsed": false,
     "input": [
      "'''\n",
      "Important requires https://github.com/andycasey/ads\n",
      "\n",
      "Getting Started\n",
      "\n",
      "You'll need an API key from NASA ADS labs. Sign up for the newest version of ADS search here, then you can apply for API access by filling out this form.\n",
      "\n",
      "When you get your API key, save it to a file called ~/.ads/dev_key or save it as an environment variable named ADS_DEV_KEY\n",
      "\n",
      "From a terminal type pip install ads (or if you must, use easy_install ads)\n",
      "'''\n",
      "import ads\n",
      "import cPickle as pickle "
     ],
     "language": "python",
     "metadata": {},
     "outputs": [],
     "prompt_number": 18
    },
    {
     "cell_type": "code",
     "collapsed": false,
     "input": [
      "#Query ADS see https://github.com/andycasey/ads for the api \n",
      "query = ads.query(database='astronomy', rows=20)\n",
      "\n",
      "#Make a list of formated dictionaries to send to the pickle file\n",
      "paper_dicts = []\n",
      "for paper in query:\n",
      "    paper_dicts.append({'authors':paper.author, 'first_author_affiliation':paper.aff[0],\n",
      "                        'number_of_citations':paper.citation_count, 'title':paper.title\n",
      "                        }) \n",
      "   \n",
      "#We can pickle that! \n",
      "output = file('papers.pkl', 'w')\n",
      "pickle.dump(paper_dicts, output)\n",
      "output.close()\n",
      "    "
     ],
     "language": "python",
     "metadata": {},
     "outputs": [],
     "prompt_number": 20
    },
    {
     "cell_type": "code",
     "collapsed": false,
     "input": [
      "ads.query?\n"
     ],
     "language": "python",
     "metadata": {},
     "outputs": [],
     "prompt_number": 6
    },
    {
     "cell_type": "code",
     "collapsed": false,
     "input": [],
     "language": "python",
     "metadata": {},
     "outputs": []
    }
   ],
   "metadata": {}
  }
 ]
}